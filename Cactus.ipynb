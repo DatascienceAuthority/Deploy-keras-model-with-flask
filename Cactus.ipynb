{
  "nbformat": 4,
  "nbformat_minor": 0,
  "metadata": {
    "colab": {
      "name": "Cactus.ipynb",
      "version": "0.3.2",
      "provenance": [],
      "collapsed_sections": [],
      "include_colab_link": true
    },
    "kernelspec": {
      "name": "python3",
      "display_name": "Python 3"
    },
    "accelerator": "GPU"
  },
  "cells": [
    {
      "cell_type": "markdown",
      "metadata": {
        "id": "view-in-github",
        "colab_type": "text"
      },
      "source": [
        "<a href=\"https://colab.research.google.com/github/RajiReddy-A/Cactus-Prediction/blob/master/Cactus.ipynb\" target=\"_parent\"><img src=\"https://colab.research.google.com/assets/colab-badge.svg\" alt=\"Open In Colab\"/></a>"
      ]
    },
    {
      "cell_type": "code",
      "metadata": {
        "id": "F35eM3fBkY_R",
        "colab_type": "code",
        "outputId": "b8eb4645-7f0b-41ca-8a4f-cef5fc003fc5",
        "colab": {
          "base_uri": "https://localhost:8080/",
          "height": 129
        }
      },
      "source": [
        "from google.colab import drive\n",
        "drive.mount('/content/drive')"
      ],
      "execution_count": 0,
      "outputs": [
        {
          "output_type": "stream",
          "text": [
            "Go to this URL in a browser: https://accounts.google.com/o/oauth2/auth?client_id=947318989803-6bn6qk8qdgf4n4g3pfee6491hc0brc4i.apps.googleusercontent.com&redirect_uri=urn%3Aietf%3Awg%3Aoauth%3A2.0%3Aoob&scope=email%20https%3A%2F%2Fwww.googleapis.com%2Fauth%2Fdocs.test%20https%3A%2F%2Fwww.googleapis.com%2Fauth%2Fdrive%20https%3A%2F%2Fwww.googleapis.com%2Fauth%2Fdrive.photos.readonly%20https%3A%2F%2Fwww.googleapis.com%2Fauth%2Fpeopleapi.readonly&response_type=code\n",
            "\n",
            "Enter your authorization code:\n",
            "··········\n",
            "Mounted at /content/drive\n"
          ],
          "name": "stdout"
        }
      ]
    },
    {
      "cell_type": "code",
      "metadata": {
        "id": "d_uLSmVbUItd",
        "colab_type": "code",
        "outputId": "3f47e161-b682-4363-af78-36133d9d60bb",
        "colab": {
          "base_uri": "https://localhost:8080/",
          "height": 35
        }
      },
      "source": [
        "from keras.preprocessing.image import ImageDataGenerator, array_to_img, img_to_array, load_img\n",
        "from keras.applications.resnet50 import preprocess_input"
      ],
      "execution_count": 0,
      "outputs": [
        {
          "output_type": "stream",
          "text": [
            "Using TensorFlow backend.\n"
          ],
          "name": "stderr"
        }
      ]
    },
    {
      "cell_type": "code",
      "metadata": {
        "id": "-3Z8MmXH7Kel",
        "colab_type": "code",
        "outputId": "faccd7b3-8fca-49e3-b5fd-c0983f8790f2",
        "colab": {
          "base_uri": "https://localhost:8080/",
          "height": 35
        }
      },
      "source": [
        "\n",
        "batch_size = 30\n",
        "\n",
        "# this is the augmentation configuration we will use for training\n",
        "train_datagen = ImageDataGenerator(\n",
        "        #preprocessing_function=preprocess_input\n",
        "        rescale=1./255\n",
        "        #shear_range=0.2,\n",
        "        #zoom_range=0.2,\n",
        "        #horizontal_flip=True\n",
        "        )\n",
        "\n",
        "# this is the augmentation configuration we will use for testing:\n",
        "# only rescaling\n",
        "test_datagen = ImageDataGenerator(\n",
        "        #preprocessing_function=preprocess_input\n",
        "        rescale=1./255\n",
        "        )\n",
        "\n",
        "# this is a generator that will read pictures found in\n",
        "# subfolers of 'data/train', and indefinitely generate\n",
        "# batches of augmented image data\n",
        "train_generator = train_datagen.flow_from_directory(\n",
        "        '/content/drive/My Drive/Colab Notebooks/Cactus/data_unzip/training_set',  # this is the target directory\n",
        "        target_size=(100, 100),  # all images will be resized to 150x150\n",
        "        color_mode=\"rgb\",\n",
        "        batch_size=batch_size,\n",
        "        #shuffle=False,\n",
        "        class_mode='binary')  # since we use binary_crossentropy loss, we need binary labels\n"
      ],
      "execution_count": 0,
      "outputs": [
        {
          "output_type": "stream",
          "text": [
            "Found 17500 images belonging to 2 classes.\n"
          ],
          "name": "stdout"
        }
      ]
    },
    {
      "cell_type": "code",
      "metadata": {
        "id": "d7KN6cl8yfpw",
        "colab_type": "code",
        "outputId": "fe495a12-86d4-4504-d294-3acc58ff0957",
        "colab": {
          "base_uri": "https://localhost:8080/",
          "height": 35
        }
      },
      "source": [
        "# this is a similar generator, for validation data\n",
        "validation_generator = test_datagen.flow_from_directory(\n",
        "        '/content/drive/My Drive/Colab Notebooks/Cactus/data_unzip/validation_set',\n",
        "        target_size=(100, 100),\n",
        "        color_mode=\"rgb\",\n",
        "        batch_size=batch_size,\n",
        "        #shuffle=False,\n",
        "        class_mode='binary')"
      ],
      "execution_count": 0,
      "outputs": [
        {
          "output_type": "stream",
          "text": [
            "Found 4000 images belonging to 2 classes.\n"
          ],
          "name": "stdout"
        }
      ]
    },
    {
      "cell_type": "code",
      "metadata": {
        "id": "DEmJlFo_-AEi",
        "colab_type": "code",
        "outputId": "a85c0fb0-f193-4654-f3d9-fe9e055a3730",
        "colab": {
          "base_uri": "https://localhost:8080/",
          "height": 35
        }
      },
      "source": [
        "train_generator.labels.size,validation_generator.labels.size"
      ],
      "execution_count": 0,
      "outputs": [
        {
          "output_type": "execute_result",
          "data": {
            "text/plain": [
              "(17500, 4000)"
            ]
          },
          "metadata": {
            "tags": []
          },
          "execution_count": 8
        }
      ]
    },
    {
      "cell_type": "code",
      "metadata": {
        "id": "JXjAFTe9BgFO",
        "colab_type": "code",
        "outputId": "58af7471-9b8c-4a7b-92f4-645fa50081c2",
        "colab": {
          "base_uri": "https://localhost:8080/",
          "height": 35
        }
      },
      "source": [
        "train_generator.labels"
      ],
      "execution_count": 0,
      "outputs": [
        {
          "output_type": "execute_result",
          "data": {
            "text/plain": [
              "array([0, 0, 0, ..., 1, 1, 1], dtype=int32)"
            ]
          },
          "metadata": {
            "tags": []
          },
          "execution_count": 18
        }
      ]
    },
    {
      "cell_type": "code",
      "metadata": {
        "id": "SvtFaAz1ZBhW",
        "colab_type": "code",
        "colab": {}
      },
      "source": [
        "from keras.models import Sequential\n",
        "from keras.layers import Dense, Dropout, Flatten\n",
        "from keras.layers import Conv2D, MaxPooling2D\n",
        "from keras import backend as K\n",
        "import keras"
      ],
      "execution_count": 0,
      "outputs": []
    },
    {
      "cell_type": "code",
      "metadata": {
        "id": "ojRlhGJklRUc",
        "colab_type": "code",
        "outputId": "55afab7c-e32f-4cf2-ac98-79fda9bd5e92",
        "colab": {
          "base_uri": "https://localhost:8080/",
          "height": 35
        }
      },
      "source": [
        "train_generator.image_shape"
      ],
      "execution_count": 0,
      "outputs": [
        {
          "output_type": "execute_result",
          "data": {
            "text/plain": [
              "(100, 100, 3)"
            ]
          },
          "metadata": {
            "tags": []
          },
          "execution_count": 10
        }
      ]
    },
    {
      "cell_type": "code",
      "metadata": {
        "id": "qmPmHbVDZ2Tw",
        "colab_type": "code",
        "outputId": "34343720-b9ac-41e9-d375-650eab30cfed",
        "colab": {
          "base_uri": "https://localhost:8080/",
          "height": 423
        }
      },
      "source": [
        "model = Sequential()\n",
        "model.add(Conv2D(32, kernel_size=(3, 3),\n",
        "                 activation='relu',\n",
        "                 input_shape=train_generator.image_shape))\n",
        "model.add(Conv2D(64, (3, 3), activation='relu'))\n",
        "#model.add(Conv2D(128, (3,3), activation='relu'))\n",
        "model.add(MaxPooling2D(pool_size=(2, 2), padding='valid'))\n",
        "model.add(Dropout(0.25))\n",
        "model.add(Flatten())\n",
        "model.add(Dense(128, activation='relu'))\n",
        "model.add(Dropout(0.5))\n",
        "model.add(Dense(1, activation='sigmoid'))\n",
        "\n",
        "model.compile(loss=keras.losses.binary_crossentropy,\n",
        "              optimizer=keras.optimizers.Adam(),\n",
        "              metrics=['accuracy'])"
      ],
      "execution_count": 0,
      "outputs": [
        {
          "output_type": "stream",
          "text": [
            "WARNING: Logging before flag parsing goes to stderr.\n",
            "W0621 05:49:53.099526 140103280080768 deprecation_wrapper.py:119] From /usr/local/lib/python3.6/dist-packages/keras/backend/tensorflow_backend.py:74: The name tf.get_default_graph is deprecated. Please use tf.compat.v1.get_default_graph instead.\n",
            "\n",
            "W0621 05:49:53.152145 140103280080768 deprecation_wrapper.py:119] From /usr/local/lib/python3.6/dist-packages/keras/backend/tensorflow_backend.py:517: The name tf.placeholder is deprecated. Please use tf.compat.v1.placeholder instead.\n",
            "\n",
            "W0621 05:49:53.161823 140103280080768 deprecation_wrapper.py:119] From /usr/local/lib/python3.6/dist-packages/keras/backend/tensorflow_backend.py:4138: The name tf.random_uniform is deprecated. Please use tf.random.uniform instead.\n",
            "\n",
            "W0621 05:49:53.205437 140103280080768 deprecation_wrapper.py:119] From /usr/local/lib/python3.6/dist-packages/keras/backend/tensorflow_backend.py:3976: The name tf.nn.max_pool is deprecated. Please use tf.nn.max_pool2d instead.\n",
            "\n",
            "W0621 05:49:53.210755 140103280080768 deprecation_wrapper.py:119] From /usr/local/lib/python3.6/dist-packages/keras/backend/tensorflow_backend.py:133: The name tf.placeholder_with_default is deprecated. Please use tf.compat.v1.placeholder_with_default instead.\n",
            "\n",
            "W0621 05:49:53.220157 140103280080768 deprecation.py:506] From /usr/local/lib/python3.6/dist-packages/keras/backend/tensorflow_backend.py:3445: calling dropout (from tensorflow.python.ops.nn_ops) with keep_prob is deprecated and will be removed in a future version.\n",
            "Instructions for updating:\n",
            "Please use `rate` instead of `keep_prob`. Rate should be set to `rate = 1 - keep_prob`.\n",
            "W0621 05:49:53.296239 140103280080768 deprecation_wrapper.py:119] From /usr/local/lib/python3.6/dist-packages/keras/optimizers.py:790: The name tf.train.Optimizer is deprecated. Please use tf.compat.v1.train.Optimizer instead.\n",
            "\n",
            "W0621 05:49:53.302151 140103280080768 deprecation_wrapper.py:119] From /usr/local/lib/python3.6/dist-packages/keras/backend/tensorflow_backend.py:3376: The name tf.log is deprecated. Please use tf.math.log instead.\n",
            "\n",
            "W0621 05:49:53.308850 140103280080768 deprecation.py:323] From /usr/local/lib/python3.6/dist-packages/tensorflow/python/ops/nn_impl.py:180: add_dispatch_support.<locals>.wrapper (from tensorflow.python.ops.array_ops) is deprecated and will be removed in a future version.\n",
            "Instructions for updating:\n",
            "Use tf.where in 2.0, which has the same broadcast rule as np.where\n"
          ],
          "name": "stderr"
        }
      ]
    },
    {
      "cell_type": "code",
      "metadata": {
        "id": "nszZFjKDa6W6",
        "colab_type": "code",
        "outputId": "aa6a8574-412f-4eb6-c23b-f72d1f045f1f",
        "colab": {
          "base_uri": "https://localhost:8080/",
          "height": 257
        }
      },
      "source": [
        "model_history = model.fit_generator(\n",
        "                train_generator,\n",
        "                steps_per_epoch= train_generator.labels.size//batch_size,\n",
        "                epochs=5,\n",
        "                validation_data=validation_generator,\n",
        "                validation_steps= validation_generator.labels.size//batch_size,\n",
        "                use_multiprocessing=True,\n",
        "                workers=10\n",
        "                                    )"
      ],
      "execution_count": 0,
      "outputs": [
        {
          "output_type": "stream",
          "text": [
            "Epoch 1/5\n"
          ],
          "name": "stdout"
        },
        {
          "output_type": "stream",
          "text": [
            "/usr/local/lib/python3.6/dist-packages/keras/engine/training_generator.py:47: UserWarning: Using a generator with `use_multiprocessing=True` and multiple workers may duplicate your data. Please consider using the`keras.utils.Sequence class.\n",
            "  UserWarning('Using a generator with `use_multiprocessing=True`'\n"
          ],
          "name": "stderr"
        },
        {
          "output_type": "stream",
          "text": [
            "583/583 [==============================] - 800s 1s/step - loss: 0.1143 - acc: 0.9658 - val_loss: 0.1387 - val_acc: 0.9283\n",
            "Epoch 2/5\n",
            "583/583 [==============================] - 771s 1s/step - loss: 0.0338 - acc: 0.9907 - val_loss: 0.1839 - val_acc: 0.9251\n",
            "Epoch 3/5\n",
            "583/583 [==============================] - 771s 1s/step - loss: 0.0357 - acc: 0.9895 - val_loss: 0.0441 - val_acc: 0.9815\n",
            "Epoch 4/5\n",
            "583/583 [==============================] - 791s 1s/step - loss: 0.0340 - acc: 0.9913 - val_loss: 0.0612 - val_acc: 0.9825\n",
            "Epoch 5/5\n",
            "583/583 [==============================] - 766s 1s/step - loss: 0.0390 - acc: 0.9895 - val_loss: 0.2588 - val_acc: 0.9226\n"
          ],
          "name": "stdout"
        }
      ]
    },
    {
      "cell_type": "code",
      "metadata": {
        "id": "mEwh4pG7i5r-",
        "colab_type": "code",
        "outputId": "671e5387-aae2-48ea-9812-8f3366967f0d",
        "colab": {
          "base_uri": "https://localhost:8080/",
          "height": 172
        }
      },
      "source": [
        "#model.save('/content/drive/My Drive/Colab Notebooks/Cactus/models/model1.h5')"
      ],
      "execution_count": 0,
      "outputs": [
        {
          "output_type": "error",
          "ename": "NameError",
          "evalue": "ignored",
          "traceback": [
            "\u001b[0;31m---------------------------------------------------------------------------\u001b[0m",
            "\u001b[0;31mNameError\u001b[0m                                 Traceback (most recent call last)",
            "\u001b[0;32m<ipython-input-4-e77435284335>\u001b[0m in \u001b[0;36m<module>\u001b[0;34m()\u001b[0m\n\u001b[0;32m----> 1\u001b[0;31m \u001b[0mmodel\u001b[0m\u001b[0;34m.\u001b[0m\u001b[0msave\u001b[0m\u001b[0;34m(\u001b[0m\u001b[0;34m'/content/drive/My Drive/Colab Notebooks/Cactus/models/model1.h5'\u001b[0m\u001b[0;34m)\u001b[0m\u001b[0;34m\u001b[0m\u001b[0;34m\u001b[0m\u001b[0m\n\u001b[0m",
            "\u001b[0;31mNameError\u001b[0m: name 'model' is not defined"
          ]
        }
      ]
    },
    {
      "cell_type": "code",
      "metadata": {
        "id": "mB2ixMSX1RN_",
        "colab_type": "code",
        "outputId": "00288b30-978b-4032-89b3-7e33b7b72f11",
        "colab": {
          "base_uri": "https://localhost:8080/",
          "height": 423
        }
      },
      "source": [
        "from keras.models import load_model\n",
        "saved_model = load_model('/content/drive/My Drive/Colab Notebooks/Cactus/models/model1.h5')"
      ],
      "execution_count": 0,
      "outputs": [
        {
          "output_type": "stream",
          "text": [
            "WARNING: Logging before flag parsing goes to stderr.\n",
            "W0621 15:43:46.875041 140060105275264 deprecation_wrapper.py:119] From /usr/local/lib/python3.6/dist-packages/keras/backend/tensorflow_backend.py:517: The name tf.placeholder is deprecated. Please use tf.compat.v1.placeholder instead.\n",
            "\n",
            "W0621 15:43:46.922400 140060105275264 deprecation_wrapper.py:119] From /usr/local/lib/python3.6/dist-packages/keras/backend/tensorflow_backend.py:4138: The name tf.random_uniform is deprecated. Please use tf.random.uniform instead.\n",
            "\n",
            "W0621 15:43:46.969038 140060105275264 deprecation_wrapper.py:119] From /usr/local/lib/python3.6/dist-packages/keras/backend/tensorflow_backend.py:3976: The name tf.nn.max_pool is deprecated. Please use tf.nn.max_pool2d instead.\n",
            "\n",
            "W0621 15:43:46.971959 140060105275264 deprecation_wrapper.py:119] From /usr/local/lib/python3.6/dist-packages/keras/backend/tensorflow_backend.py:131: The name tf.get_default_graph is deprecated. Please use tf.compat.v1.get_default_graph instead.\n",
            "\n",
            "W0621 15:43:46.973279 140060105275264 deprecation_wrapper.py:119] From /usr/local/lib/python3.6/dist-packages/keras/backend/tensorflow_backend.py:133: The name tf.placeholder_with_default is deprecated. Please use tf.compat.v1.placeholder_with_default instead.\n",
            "\n",
            "W0621 15:43:46.985387 140060105275264 deprecation.py:506] From /usr/local/lib/python3.6/dist-packages/keras/backend/tensorflow_backend.py:3445: calling dropout (from tensorflow.python.ops.nn_ops) with keep_prob is deprecated and will be removed in a future version.\n",
            "Instructions for updating:\n",
            "Please use `rate` instead of `keep_prob`. Rate should be set to `rate = 1 - keep_prob`.\n",
            "W0621 15:43:49.494276 140060105275264 deprecation_wrapper.py:119] From /usr/local/lib/python3.6/dist-packages/keras/backend/tensorflow_backend.py:174: The name tf.get_default_session is deprecated. Please use tf.compat.v1.get_default_session instead.\n",
            "\n",
            "W0621 15:43:53.557721 140060105275264 deprecation_wrapper.py:119] From /usr/local/lib/python3.6/dist-packages/keras/optimizers.py:790: The name tf.train.Optimizer is deprecated. Please use tf.compat.v1.train.Optimizer instead.\n",
            "\n",
            "W0621 15:43:53.576025 140060105275264 deprecation.py:323] From /usr/local/lib/python3.6/dist-packages/tensorflow/python/ops/nn_impl.py:180: add_dispatch_support.<locals>.wrapper (from tensorflow.python.ops.array_ops) is deprecated and will be removed in a future version.\n",
            "Instructions for updating:\n",
            "Use tf.where in 2.0, which has the same broadcast rule as np.where\n"
          ],
          "name": "stderr"
        }
      ]
    },
    {
      "cell_type": "code",
      "metadata": {
        "id": "_atMbVFu1nRg",
        "colab_type": "code",
        "colab": {}
      },
      "source": [
        "import numpy as np\n",
        "test_img = load_img('/content/drive/My Drive/Colab Notebooks/Cactus/data_unzip/training_set/no_cactus/Sinplanta.1.jpg', target_size=(100, 100))\n",
        "test_img\n",
        "y = img_to_array(test_img)\n",
        "y = y/255\n",
        "y = np.expand_dims(y, axis=0)\n",
        "#y.shape, y\n",
        "#images = np.vstack([x, y])"
      ],
      "execution_count": 0,
      "outputs": []
    },
    {
      "cell_type": "code",
      "metadata": {
        "id": "yPd7pV2VdT-N",
        "colab_type": "code",
        "outputId": "226e611f-1f7e-450e-9bd8-fa8e6809e1b0",
        "colab": {
          "base_uri": "https://localhost:8080/",
          "height": 117
        }
      },
      "source": [
        "test_img"
      ],
      "execution_count": 0,
      "outputs": [
        {
          "output_type": "execute_result",
          "data": {
            "image/png": "[encoded data removed]",
            "text/plain": [
              "<PIL.Image.Image image mode=RGB size=100x100 at 0x7F61FEA4CD68>"
            ]
          },
          "metadata": {
            "tags": []
          },
          "execution_count": 8
        }
      ]
    },
    {
      "cell_type": "code",
      "metadata": {
        "id": "xDcu39SIb2X8",
        "colab_type": "code",
        "outputId": "2b66aca4-d905-4685-8554-2a262363c23f",
        "colab": {
          "base_uri": "https://localhost:8080/",
          "height": 35
        }
      },
      "source": [
        "saved_model.predict_classes(y)"
      ],
      "execution_count": 0,
      "outputs": [
        {
          "output_type": "execute_result",
          "data": {
            "text/plain": [
              "array([[1]], dtype=int32)"
            ]
          },
          "metadata": {
            "tags": []
          },
          "execution_count": 35
        }
      ]
    },
    {
      "cell_type": "markdown",
      "metadata": {
        "id": "5rn9eyVqdEqF",
        "colab_type": "text"
      },
      "source": [
        "# IGNORE BELOW CELLS\n",
        "\n",
        "\n",
        "\n"
      ]
    },
    {
      "cell_type": "markdown",
      "metadata": {
        "id": "_Zag_E2NujCq",
        "colab_type": "text"
      },
      "source": [
        "# Learning Rate Finder"
      ]
    },
    {
      "cell_type": "code",
      "metadata": {
        "id": "O4dsZ3eIa5Dv",
        "colab_type": "code",
        "outputId": "3409cdc9-671c-4dd1-82bd-09e677685895",
        "colab": {
          "base_uri": "https://localhost:8080/",
          "height": 209
        }
      },
      "source": [
        "data_list = []\n",
        "batch_index = 0\n",
        "\n",
        "while batch_index <= train_generator.batch_index:\n",
        "    data = train_generator.next()\n",
        "    data_list.append(data[0])\n",
        "    batch_index = batch_index + 1\n",
        "\n"
      ],
      "execution_count": 0,
      "outputs": [
        {
          "output_type": "error",
          "ename": "NameError",
          "evalue": "ignored",
          "traceback": [
            "\u001b[0;31m---------------------------------------------------------------------------\u001b[0m",
            "\u001b[0;31mNameError\u001b[0m                                 Traceback (most recent call last)",
            "\u001b[0;32m<ipython-input-37-c9a78ebaa06e>\u001b[0m in \u001b[0;36m<module>\u001b[0;34m()\u001b[0m\n\u001b[1;32m      8\u001b[0m \u001b[0;34m\u001b[0m\u001b[0m\n\u001b[1;32m      9\u001b[0m \u001b[0;31m# now, data_array is the numeric data of whole images\u001b[0m\u001b[0;34m\u001b[0m\u001b[0;34m\u001b[0m\u001b[0;34m\u001b[0m\u001b[0m\n\u001b[0;32m---> 10\u001b[0;31m \u001b[0mdata_array\u001b[0m \u001b[0;34m=\u001b[0m \u001b[0mnp\u001b[0m\u001b[0;34m.\u001b[0m\u001b[0masarray\u001b[0m\u001b[0;34m(\u001b[0m\u001b[0mdata_list\u001b[0m\u001b[0;34m)\u001b[0m\u001b[0;34m\u001b[0m\u001b[0;34m\u001b[0m\u001b[0m\n\u001b[0m",
            "\u001b[0;31mNameError\u001b[0m: name 'np' is not defined"
          ]
        }
      ]
    },
    {
      "cell_type": "code",
      "metadata": {
        "id": "CeUu-IeA2dxd",
        "colab_type": "code",
        "colab": {}
      },
      "source": [
        "import numpy as np\n",
        "# now, data_array is the numeric data of whole images\n",
        "train_data_array = np.asarray(data_list)\n",
        "train_labels_array = train_generator.labels\n"
      ],
      "execution_count": 0,
      "outputs": []
    },
    {
      "cell_type": "code",
      "metadata": {
        "id": "M2MFK-p35pnI",
        "colab_type": "code",
        "colab": {}
      },
      "source": [
        "train_data_array = train_data_array.reshape(876*20, 100, 100, 3)"
      ],
      "execution_count": 0,
      "outputs": []
    },
    {
      "cell_type": "code",
      "metadata": {
        "id": "f0HxwCCR3I4s",
        "colab_type": "code",
        "outputId": "ba267c5a-e103-4ae0-ae30-b1a696ae97d3",
        "colab": {
          "base_uri": "https://localhost:8080/",
          "height": 35
        }
      },
      "source": [
        "train_data_array.shape"
      ],
      "execution_count": 0,
      "outputs": [
        {
          "output_type": "execute_result",
          "data": {
            "text/plain": [
              "(17520, 100, 100, 3)"
            ]
          },
          "metadata": {
            "tags": []
          },
          "execution_count": 47
        }
      ]
    },
    {
      "cell_type": "code",
      "metadata": {
        "id": "2NKPvJT5iEZi",
        "colab_type": "code",
        "outputId": "aa48fe26-51be-4af9-81d7-c3404a626d7a",
        "colab": {
          "base_uri": "https://localhost:8080/",
          "height": 368
        }
      },
      "source": [
        "!pip install keras_lr_finder"
      ],
      "execution_count": 0,
      "outputs": [
        {
          "output_type": "stream",
          "text": [
            "Collecting keras_lr_finder\n",
            "  Downloading https://files.pythonhosted.org/packages/ac/f8/6668401e734e90eb4e63c41d30e9ae895355e1e078370be32355253b03a0/keras_lr_finder-0.1-py2.py3-none-any.whl\n",
            "Requirement already satisfied: matplotlib in /usr/local/lib/python3.6/dist-packages (from keras_lr_finder) (3.0.3)\n",
            "Requirement already satisfied: keras>=2.0.0 in /usr/local/lib/python3.6/dist-packages (from keras_lr_finder) (2.2.4)\n",
            "Requirement already satisfied: numpy>=1.10.0 in /usr/local/lib/python3.6/dist-packages (from matplotlib->keras_lr_finder) (1.16.4)\n",
            "Requirement already satisfied: kiwisolver>=1.0.1 in /usr/local/lib/python3.6/dist-packages (from matplotlib->keras_lr_finder) (1.1.0)\n",
            "Requirement already satisfied: pyparsing!=2.0.4,!=2.1.2,!=2.1.6,>=2.0.1 in /usr/local/lib/python3.6/dist-packages (from matplotlib->keras_lr_finder) (2.4.0)\n",
            "Requirement already satisfied: cycler>=0.10 in /usr/local/lib/python3.6/dist-packages (from matplotlib->keras_lr_finder) (0.10.0)\n",
            "Requirement already satisfied: python-dateutil>=2.1 in /usr/local/lib/python3.6/dist-packages (from matplotlib->keras_lr_finder) (2.5.3)\n",
            "Requirement already satisfied: scipy>=0.14 in /usr/local/lib/python3.6/dist-packages (from keras>=2.0.0->keras_lr_finder) (1.3.0)\n",
            "Requirement already satisfied: keras-preprocessing>=1.0.5 in /usr/local/lib/python3.6/dist-packages (from keras>=2.0.0->keras_lr_finder) (1.1.0)\n",
            "Requirement already satisfied: pyyaml in /usr/local/lib/python3.6/dist-packages (from keras>=2.0.0->keras_lr_finder) (3.13)\n",
            "Requirement already satisfied: h5py in /usr/local/lib/python3.6/dist-packages (from keras>=2.0.0->keras_lr_finder) (2.8.0)\n",
            "Requirement already satisfied: six>=1.9.0 in /usr/local/lib/python3.6/dist-packages (from keras>=2.0.0->keras_lr_finder) (1.12.0)\n",
            "Requirement already satisfied: keras-applications>=1.0.6 in /usr/local/lib/python3.6/dist-packages (from keras>=2.0.0->keras_lr_finder) (1.0.8)\n",
            "Requirement already satisfied: setuptools in /usr/local/lib/python3.6/dist-packages (from kiwisolver>=1.0.1->matplotlib->keras_lr_finder) (41.0.1)\n",
            "Installing collected packages: keras-lr-finder\n",
            "Successfully installed keras-lr-finder-0.1\n"
          ],
          "name": "stdout"
        }
      ]
    },
    {
      "cell_type": "code",
      "metadata": {
        "id": "tbcVCtc4G4Uj",
        "colab_type": "code",
        "colab": {}
      },
      "source": [
        ""
      ],
      "execution_count": 0,
      "outputs": []
    },
    {
      "cell_type": "code",
      "metadata": {
        "id": "8e0Ah1xzu4iI",
        "colab_type": "code",
        "outputId": "bc5b9d5a-2bdb-4ac0-fda5-3825da074b6f",
        "colab": {
          "base_uri": "https://localhost:8080/",
          "height": 201
        }
      },
      "source": [
        "from keras_lr_finder import LRFinder\n",
        "# model is a Keras model\n",
        "lr_finder = LRFinder(model)\n",
        "\n",
        "# Train a model with batch size 512 for 5 epochs\n",
        "# with learning rate growing exponentially from 0.0001 to 1\n",
        "lr_finder.find(train_data_array, train_labels_array, start_lr=0.0001, end_lr=0.01, batch_size=512, epochs=5)"
      ],
      "execution_count": 0,
      "outputs": [
        {
          "output_type": "stream",
          "text": [
            "Epoch 1/5\n",
            "17520/17520 [==============================] - 13s 727us/step - loss: 0.6146 - acc: 0.7376\n",
            "Epoch 2/5\n",
            "17520/17520 [==============================] - 12s 683us/step - loss: 0.5754 - acc: 0.7509\n",
            "Epoch 3/5\n",
            "17520/17520 [==============================] - 12s 689us/step - loss: 0.5745 - acc: 0.7509\n",
            "Epoch 4/5\n",
            "17520/17520 [==============================] - 12s 686us/step - loss: 0.5904 - acc: 0.7509\n",
            "Epoch 5/5\n",
            "17520/17520 [==============================] - 12s 678us/step - loss: 0.5816 - acc: 0.7509\n"
          ],
          "name": "stdout"
        }
      ]
    },
    {
      "cell_type": "code",
      "metadata": {
        "id": "J-c5V0Do6vaq",
        "colab_type": "code",
        "outputId": "62577792-b7a5-4096-f25b-328ff2b61fe9",
        "colab": {
          "base_uri": "https://localhost:8080/",
          "height": 287
        }
      },
      "source": [
        "# Plot the loss, ignore 20 batches in the beginning and 5 in the end\n",
        "lr_finder.plot_loss(n_skip_beginning=5, n_skip_end=40)"
      ],
      "execution_count": 0,
      "outputs": [
        {
          "output_type": "display_data",
          "data": {
            "image/png": "[encoded data removed]",
            "text/plain": [
              "<Figure size 432x288 with 1 Axes>"
            ]
          },
          "metadata": {
            "tags": []
          }
        }
      ]
    },
    {
      "cell_type": "markdown",
      "metadata": {
        "id": "2LO9UPg3mHru",
        "colab_type": "text"
      },
      "source": [
        "#                                                                             **USING RESNET50**\n",
        "\n",
        "\n",
        "\n",
        "\n",
        "\n",
        "\n",
        "\n",
        "\n",
        "\n"
      ]
    },
    {
      "cell_type": "code",
      "metadata": {
        "id": "RIlrdTnomQ0v",
        "colab_type": "code",
        "outputId": "82105c76-3b38-417c-b52f-2dd23880282c",
        "colab": {
          "base_uri": "https://localhost:8080/",
          "height": 74
        }
      },
      "source": [
        "# create the base pre-trained model\n",
        "from keras.applications.resnet50 import ResNet50\n",
        "from keras.layers import Dense,GlobalAveragePooling2D,Input, MaxPooling2D, BatchNormalization\n",
        "from keras.models import Model,load_model\n",
        "input_tensor = Input(shape=(100, 100, 3))\n",
        "base_model = ResNet50(input_tensor=input_tensor,weights='imagenet',include_top=False)\n",
        "\n",
        "for layer in base_model.layers[:-1]:\n",
        "    layer.trainable=False\n",
        "\n",
        "#x = base_model.output\n",
        "#x = GlobalAveragePooling2D(data_format='channels_last')(x)\n",
        "#x = MaxPooling2D(pool_size=(2, 2), data_format='channels_last')(x)\n",
        "#x = Dense(num_classes, activation='softmax')(x)\n",
        "\n",
        "#resnet50model = Model(base_model.input, x)\n",
        "\n",
        "resnet50model = Sequential()\n",
        "resnet50model.add(base_model)\n",
        "# Add new layers\n",
        "\"\"\"\n",
        "resnet50model.add(Dense(512, activation='linear'))\n",
        "resnet50model.add(BatchNormalization())\n",
        "resnet50model.add(Dropout(0.7))\n",
        "resnet50model.add(Dense(512, use_bias=True,activation='linear'))\n",
        "resnet50model.add(BatchNormalization())\n",
        "resnet50model.add(Dropout(0.7))\n",
        "\"\"\"\n",
        "resnet50model.add(Flatten())\n",
        "resnet50model.add(Dense(512, use_bias=True,activation='relu'))\n",
        "resnet50model.add(BatchNormalization())\n",
        "resnet50model.add(Dropout(0.5))\n",
        "resnet50model.add(Dense(1, activation='sigmoid'))"
      ],
      "execution_count": 0,
      "outputs": [
        {
          "output_type": "stream",
          "text": [
            "/usr/local/lib/python3.6/dist-packages/keras_applications/resnet50.py:265: UserWarning: The output shape of `ResNet50(include_top=False)` has been changed since Keras 2.2.0.\n",
            "  warnings.warn('The output shape of `ResNet50(include_top=False)` '\n"
          ],
          "name": "stderr"
        }
      ]
    },
    {
      "cell_type": "code",
      "metadata": {
        "id": "4b-2Z1k4uM92",
        "colab_type": "code",
        "outputId": "535fe7d2-12c0-486d-f62c-ffec36bda249",
        "colab": {
          "base_uri": "https://localhost:8080/",
          "height": 384
        }
      },
      "source": [
        "resnet50model.compile(loss=keras.losses.binary_crossentropy,\n",
        "              optimizer=keras.optimizers.Adam(),\n",
        "              metrics=['accuracy'])\n",
        "\n",
        "resnet50model_history = resnet50model.fit_generator(\n",
        "                                    train_generator,\n",
        "                                    steps_per_epoch=batch_size,\n",
        "                                    epochs=10,\n",
        "                                    validation_data=validation_generator,\n",
        "                                    validation_steps=batch_size)"
      ],
      "execution_count": 0,
      "outputs": [
        {
          "output_type": "stream",
          "text": [
            "Epoch 1/10\n",
            "20/20 [==============================] - 148s 7s/step - loss: 0.7314 - acc: 0.8050 - val_loss: 2.3126 - val_acc: 0.5200\n",
            "Epoch 2/10\n",
            "20/20 [==============================] - 146s 7s/step - loss: 0.1728 - acc: 0.9375 - val_loss: 1.6466 - val_acc: 0.6275\n",
            "Epoch 3/10\n",
            "20/20 [==============================] - 155s 8s/step - loss: 0.1552 - acc: 0.9525 - val_loss: 1.8227 - val_acc: 0.6300\n",
            "Epoch 4/10\n",
            "20/20 [==============================] - 153s 8s/step - loss: 0.1235 - acc: 0.9650 - val_loss: 0.8902 - val_acc: 0.7550\n",
            "Epoch 5/10\n",
            "20/20 [==============================] - 157s 8s/step - loss: 0.0681 - acc: 0.9750 - val_loss: 0.7847 - val_acc: 0.7875\n",
            "Epoch 6/10\n",
            "20/20 [==============================] - 143s 7s/step - loss: 0.0937 - acc: 0.9725 - val_loss: 0.4751 - val_acc: 0.8375\n",
            "Epoch 7/10\n",
            "20/20 [==============================] - 148s 7s/step - loss: 0.0753 - acc: 0.9700 - val_loss: 0.2630 - val_acc: 0.9100\n",
            "Epoch 8/10\n",
            "20/20 [==============================] - 148s 7s/step - loss: 0.0715 - acc: 0.9775 - val_loss: 0.3055 - val_acc: 0.9125\n",
            "Epoch 9/10\n",
            "20/20 [==============================] - 149s 7s/step - loss: 0.0984 - acc: 0.9775 - val_loss: 0.3616 - val_acc: 0.8900\n",
            "Epoch 10/10\n",
            "20/20 [==============================] - 147s 7s/step - loss: 0.1915 - acc: 0.9725 - val_loss: 0.4270 - val_acc: 0.8625\n"
          ],
          "name": "stdout"
        }
      ]
    },
    {
      "cell_type": "markdown",
      "metadata": {
        "id": "6XebXw51k7eG",
        "colab_type": "text"
      },
      "source": [
        "for layer in base_model.layers[:]:\n",
        "    layer.trainable=False                              ----------    85 accuracy- epochs 20\n",
        "    \n",
        "for layer in base_model.layers[:-1]:\n",
        "    layer.trainable=False                              ----------    86 accuracy- epochs 20"
      ]
    },
    {
      "cell_type": "markdown",
      "metadata": {
        "id": "WYIddJ490OV2",
        "colab_type": "text"
      },
      "source": [
        "# Resources"
      ]
    },
    {
      "cell_type": "markdown",
      "metadata": {
        "id": "rlqb13Xx0RMI",
        "colab_type": "text"
      },
      "source": [
        "https://stanford.edu/~shervine/blog/keras-how-to-generate-data-on-the-fly\n",
        "\n",
        "https://stackoverflow.com/questions/44842097/how-to-get-list-of-values-in-imagedatagenerator-flow-from-directory-keras\n",
        "\n",
        "https://github.com/surmenok/keras_lr_finder\n",
        "\n",
        "https://stackoverflow.com/questions/45943675/meaning-of-validation-steps-in-keras-sequential-fit-generator-parameter-list\n",
        "\n",
        "https://stackoverflow.com/questions/43469281/how-to-predict-input-image-using-trained-model-in-keras\n",
        "\n",
        "https://github.com/keras-team/keras/issues/9049"
      ]
    }
  ]
}